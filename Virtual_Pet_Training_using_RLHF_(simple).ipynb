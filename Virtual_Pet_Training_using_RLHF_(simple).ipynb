{
  "nbformat": 4,
  "nbformat_minor": 0,
  "metadata": {
    "colab": {
      "provenance": [],
      "authorship_tag": "ABX9TyPGGLZ+8BArx8BDwH0UlGcm",
      "include_colab_link": true
    },
    "kernelspec": {
      "name": "python3",
      "display_name": "Python 3"
    },
    "language_info": {
      "name": "python"
    }
  },
  "cells": [
    {
      "cell_type": "markdown",
      "metadata": {
        "id": "view-in-github",
        "colab_type": "text"
      },
      "source": [
        "<a href=\"https://colab.research.google.com/github/ShaliniAnandaPhD/Virtual-Pet-Dev_RLHF/blob/main/Virtual_Pet_Training_using_RLHF_(simple).ipynb\" target=\"_parent\"><img src=\"https://colab.research.google.com/assets/colab-badge.svg\" alt=\"Open In Colab\"/></a>"
      ]
    },
    {
      "cell_type": "markdown",
      "source": [
        "1. **Objective**\n",
        "   - **Primary Objective:** To develop a virtual pet capable of learning and performing specific actions (like sitting, fetching, etc.) through the combined application of Reinforcement Learning (RL) and human feedback.\n",
        "   - **Secondary Objectives:**\n",
        "     - To evaluate the effectiveness of RL combined with human feedback compared to RL alone.\n",
        "     - To enhance user engagement and provide an intuitive interface for human feedback.\n",
        "\n",
        " 2. **Scope**\n",
        "   - **Actions to Train:**\n",
        "     - **Basic Commands:** Sit, Stay, Come.\n",
        "     - **Advanced Commands:** Fetch, Roll Over, Play Dead.\n",
        "     - **Interactive Behaviors:** Responding to virtual environmental changes, interacting with virtual objects or other virtual pets.\n",
        "   - **Criteria for Successful Action:**\n",
        "     - **Accuracy:** The virtual pet performs the action correctly in response to the command.\n",
        "     - **Consistency:** The pet consistently performs the action correctly over time.\n",
        "     - **Adaptability:** The pet can adapt its response based on different cues or environments.\n",
        "   - **RL and Human Feedback Integration:**\n",
        "     - **Reinforcement Learning:** Implement a reward system where the virtual pet learns through trial and error, guided by a reward function.\n",
        "     - **Human Feedback:** Integrate a mechanism for users to provide direct feedback (like praising or correcting), which influences the pet's learning process.\n",
        "     - **Feedback Loop:** Ensure there's a system in place where the RL algorithm can adapt based on human feedback, enhancing the training effectiveness.\n",
        "\n",
        "  3. **Deliverables**\n",
        "   - **A Virtual Pet Simulation:** A software application where the virtual pet can be trained and interacted with.\n",
        "   - **Training Module:** A user-friendly interface for providing human feedback and monitoring the pet's progress.\n",
        "   - **Performance Reports:** Regular reports on the pet's learning progress, highlighting areas of success and those needing improvement.\n",
        "\n",
        " 4. **Challenges and Considerations**\n",
        "   - **Balancing RL and Human Feedback:** Finding the optimal balance where both RL and human feedback complement each other effectively.\n",
        "   - **User Experience:** Designing an engaging and intuitive interface for users to interact with their virtual pet.\n",
        "   - **Ethical Considerations:** Ensuring the virtual pet’s behavior does not promote harmful actions or reactions.\n",
        "\n",
        " 5. **Metrics for Success**\n",
        "   - **Learning Speed:** How quickly the virtual pet acquires new behaviors.\n",
        "   - **Behavioral Accuracy:** The precision and appropriateness of the pet’s responses to commands.\n",
        "   - **User Satisfaction:** Feedback from users regarding their experience training and interacting with the virtual pet."
      ],
      "metadata": {
        "id": "MPseaXlB4SD2"
      }
    },
    {
      "cell_type": "code",
      "source": [
        "!pip install tensorflow"
      ],
      "metadata": {
        "colab": {
          "base_uri": "https://localhost:8080/"
        },
        "id": "X6fjVHZm4fv1",
        "outputId": "323cde67-4ec2-4ff4-923b-b297f2ad1d33"
      },
      "execution_count": 1,
      "outputs": [
        {
          "output_type": "stream",
          "name": "stdout",
          "text": [
            "Requirement already satisfied: tensorflow in /usr/local/lib/python3.10/dist-packages (2.15.0)\n",
            "Requirement already satisfied: absl-py>=1.0.0 in /usr/local/lib/python3.10/dist-packages (from tensorflow) (1.4.0)\n",
            "Requirement already satisfied: astunparse>=1.6.0 in /usr/local/lib/python3.10/dist-packages (from tensorflow) (1.6.3)\n",
            "Requirement already satisfied: flatbuffers>=23.5.26 in /usr/local/lib/python3.10/dist-packages (from tensorflow) (23.5.26)\n",
            "Requirement already satisfied: gast!=0.5.0,!=0.5.1,!=0.5.2,>=0.2.1 in /usr/local/lib/python3.10/dist-packages (from tensorflow) (0.5.4)\n",
            "Requirement already satisfied: google-pasta>=0.1.1 in /usr/local/lib/python3.10/dist-packages (from tensorflow) (0.2.0)\n",
            "Requirement already satisfied: h5py>=2.9.0 in /usr/local/lib/python3.10/dist-packages (from tensorflow) (3.9.0)\n",
            "Requirement already satisfied: libclang>=13.0.0 in /usr/local/lib/python3.10/dist-packages (from tensorflow) (16.0.6)\n",
            "Requirement already satisfied: ml-dtypes~=0.2.0 in /usr/local/lib/python3.10/dist-packages (from tensorflow) (0.2.0)\n",
            "Requirement already satisfied: numpy<2.0.0,>=1.23.5 in /usr/local/lib/python3.10/dist-packages (from tensorflow) (1.23.5)\n",
            "Requirement already satisfied: opt-einsum>=2.3.2 in /usr/local/lib/python3.10/dist-packages (from tensorflow) (3.3.0)\n",
            "Requirement already satisfied: packaging in /usr/local/lib/python3.10/dist-packages (from tensorflow) (23.2)\n",
            "Requirement already satisfied: protobuf!=4.21.0,!=4.21.1,!=4.21.2,!=4.21.3,!=4.21.4,!=4.21.5,<5.0.0dev,>=3.20.3 in /usr/local/lib/python3.10/dist-packages (from tensorflow) (3.20.3)\n",
            "Requirement already satisfied: setuptools in /usr/local/lib/python3.10/dist-packages (from tensorflow) (67.7.2)\n",
            "Requirement already satisfied: six>=1.12.0 in /usr/local/lib/python3.10/dist-packages (from tensorflow) (1.16.0)\n",
            "Requirement already satisfied: termcolor>=1.1.0 in /usr/local/lib/python3.10/dist-packages (from tensorflow) (2.4.0)\n",
            "Requirement already satisfied: typing-extensions>=3.6.6 in /usr/local/lib/python3.10/dist-packages (from tensorflow) (4.5.0)\n",
            "Requirement already satisfied: wrapt<1.15,>=1.11.0 in /usr/local/lib/python3.10/dist-packages (from tensorflow) (1.14.1)\n",
            "Requirement already satisfied: tensorflow-io-gcs-filesystem>=0.23.1 in /usr/local/lib/python3.10/dist-packages (from tensorflow) (0.34.0)\n",
            "Requirement already satisfied: grpcio<2.0,>=1.24.3 in /usr/local/lib/python3.10/dist-packages (from tensorflow) (1.60.0)\n",
            "Requirement already satisfied: tensorboard<2.16,>=2.15 in /usr/local/lib/python3.10/dist-packages (from tensorflow) (2.15.1)\n",
            "Requirement already satisfied: tensorflow-estimator<2.16,>=2.15.0 in /usr/local/lib/python3.10/dist-packages (from tensorflow) (2.15.0)\n",
            "Requirement already satisfied: keras<2.16,>=2.15.0 in /usr/local/lib/python3.10/dist-packages (from tensorflow) (2.15.0)\n",
            "Requirement already satisfied: wheel<1.0,>=0.23.0 in /usr/local/lib/python3.10/dist-packages (from astunparse>=1.6.0->tensorflow) (0.42.0)\n",
            "Requirement already satisfied: google-auth<3,>=1.6.3 in /usr/local/lib/python3.10/dist-packages (from tensorboard<2.16,>=2.15->tensorflow) (2.17.3)\n",
            "Requirement already satisfied: google-auth-oauthlib<2,>=0.5 in /usr/local/lib/python3.10/dist-packages (from tensorboard<2.16,>=2.15->tensorflow) (1.2.0)\n",
            "Requirement already satisfied: markdown>=2.6.8 in /usr/local/lib/python3.10/dist-packages (from tensorboard<2.16,>=2.15->tensorflow) (3.5.1)\n",
            "Requirement already satisfied: requests<3,>=2.21.0 in /usr/local/lib/python3.10/dist-packages (from tensorboard<2.16,>=2.15->tensorflow) (2.31.0)\n",
            "Requirement already satisfied: tensorboard-data-server<0.8.0,>=0.7.0 in /usr/local/lib/python3.10/dist-packages (from tensorboard<2.16,>=2.15->tensorflow) (0.7.2)\n",
            "Requirement already satisfied: werkzeug>=1.0.1 in /usr/local/lib/python3.10/dist-packages (from tensorboard<2.16,>=2.15->tensorflow) (3.0.1)\n",
            "Requirement already satisfied: cachetools<6.0,>=2.0.0 in /usr/local/lib/python3.10/dist-packages (from google-auth<3,>=1.6.3->tensorboard<2.16,>=2.15->tensorflow) (5.3.2)\n",
            "Requirement already satisfied: pyasn1-modules>=0.2.1 in /usr/local/lib/python3.10/dist-packages (from google-auth<3,>=1.6.3->tensorboard<2.16,>=2.15->tensorflow) (0.3.0)\n",
            "Requirement already satisfied: rsa<5,>=3.1.4 in /usr/local/lib/python3.10/dist-packages (from google-auth<3,>=1.6.3->tensorboard<2.16,>=2.15->tensorflow) (4.9)\n",
            "Requirement already satisfied: requests-oauthlib>=0.7.0 in /usr/local/lib/python3.10/dist-packages (from google-auth-oauthlib<2,>=0.5->tensorboard<2.16,>=2.15->tensorflow) (1.3.1)\n",
            "Requirement already satisfied: charset-normalizer<4,>=2 in /usr/local/lib/python3.10/dist-packages (from requests<3,>=2.21.0->tensorboard<2.16,>=2.15->tensorflow) (3.3.2)\n",
            "Requirement already satisfied: idna<4,>=2.5 in /usr/local/lib/python3.10/dist-packages (from requests<3,>=2.21.0->tensorboard<2.16,>=2.15->tensorflow) (3.6)\n",
            "Requirement already satisfied: urllib3<3,>=1.21.1 in /usr/local/lib/python3.10/dist-packages (from requests<3,>=2.21.0->tensorboard<2.16,>=2.15->tensorflow) (2.0.7)\n",
            "Requirement already satisfied: certifi>=2017.4.17 in /usr/local/lib/python3.10/dist-packages (from requests<3,>=2.21.0->tensorboard<2.16,>=2.15->tensorflow) (2023.11.17)\n",
            "Requirement already satisfied: MarkupSafe>=2.1.1 in /usr/local/lib/python3.10/dist-packages (from werkzeug>=1.0.1->tensorboard<2.16,>=2.15->tensorflow) (2.1.3)\n",
            "Requirement already satisfied: pyasn1<0.6.0,>=0.4.6 in /usr/local/lib/python3.10/dist-packages (from pyasn1-modules>=0.2.1->google-auth<3,>=1.6.3->tensorboard<2.16,>=2.15->tensorflow) (0.5.1)\n",
            "Requirement already satisfied: oauthlib>=3.0.0 in /usr/local/lib/python3.10/dist-packages (from requests-oauthlib>=0.7.0->google-auth-oauthlib<2,>=0.5->tensorboard<2.16,>=2.15->tensorflow) (3.2.2)\n"
          ]
        }
      ]
    },
    {
      "cell_type": "code",
      "source": [
        "!pip install torch torchvision"
      ],
      "metadata": {
        "colab": {
          "base_uri": "https://localhost:8080/"
        },
        "id": "nwYVpqIH4wbo",
        "outputId": "db597d29-3995-427b-ece3-b85a87424712"
      },
      "execution_count": 2,
      "outputs": [
        {
          "output_type": "stream",
          "name": "stdout",
          "text": [
            "Requirement already satisfied: torch in /usr/local/lib/python3.10/dist-packages (2.1.0+cu121)\n",
            "Requirement already satisfied: torchvision in /usr/local/lib/python3.10/dist-packages (0.16.0+cu121)\n",
            "Requirement already satisfied: filelock in /usr/local/lib/python3.10/dist-packages (from torch) (3.13.1)\n",
            "Requirement already satisfied: typing-extensions in /usr/local/lib/python3.10/dist-packages (from torch) (4.5.0)\n",
            "Requirement already satisfied: sympy in /usr/local/lib/python3.10/dist-packages (from torch) (1.12)\n",
            "Requirement already satisfied: networkx in /usr/local/lib/python3.10/dist-packages (from torch) (3.2.1)\n",
            "Requirement already satisfied: jinja2 in /usr/local/lib/python3.10/dist-packages (from torch) (3.1.2)\n",
            "Requirement already satisfied: fsspec in /usr/local/lib/python3.10/dist-packages (from torch) (2023.6.0)\n",
            "Requirement already satisfied: triton==2.1.0 in /usr/local/lib/python3.10/dist-packages (from torch) (2.1.0)\n",
            "Requirement already satisfied: numpy in /usr/local/lib/python3.10/dist-packages (from torchvision) (1.23.5)\n",
            "Requirement already satisfied: requests in /usr/local/lib/python3.10/dist-packages (from torchvision) (2.31.0)\n",
            "Requirement already satisfied: pillow!=8.3.*,>=5.3.0 in /usr/local/lib/python3.10/dist-packages (from torchvision) (9.4.0)\n",
            "Requirement already satisfied: MarkupSafe>=2.0 in /usr/local/lib/python3.10/dist-packages (from jinja2->torch) (2.1.3)\n",
            "Requirement already satisfied: charset-normalizer<4,>=2 in /usr/local/lib/python3.10/dist-packages (from requests->torchvision) (3.3.2)\n",
            "Requirement already satisfied: idna<4,>=2.5 in /usr/local/lib/python3.10/dist-packages (from requests->torchvision) (3.6)\n",
            "Requirement already satisfied: urllib3<3,>=1.21.1 in /usr/local/lib/python3.10/dist-packages (from requests->torchvision) (2.0.7)\n",
            "Requirement already satisfied: certifi>=2017.4.17 in /usr/local/lib/python3.10/dist-packages (from requests->torchvision) (2023.11.17)\n",
            "Requirement already satisfied: mpmath>=0.19 in /usr/local/lib/python3.10/dist-packages (from sympy->torch) (1.3.0)\n"
          ]
        }
      ]
    },
    {
      "cell_type": "code",
      "source": [
        "!pip install gym"
      ],
      "metadata": {
        "colab": {
          "base_uri": "https://localhost:8080/"
        },
        "id": "slhpSHYp403L",
        "outputId": "a4d677a1-bf5e-4a3c-ef6d-324fad55a4b0"
      },
      "execution_count": 3,
      "outputs": [
        {
          "output_type": "stream",
          "name": "stdout",
          "text": [
            "Requirement already satisfied: gym in /usr/local/lib/python3.10/dist-packages (0.25.2)\n",
            "Requirement already satisfied: numpy>=1.18.0 in /usr/local/lib/python3.10/dist-packages (from gym) (1.23.5)\n",
            "Requirement already satisfied: cloudpickle>=1.2.0 in /usr/local/lib/python3.10/dist-packages (from gym) (2.2.1)\n",
            "Requirement already satisfied: gym-notices>=0.0.4 in /usr/local/lib/python3.10/dist-packages (from gym) (0.0.8)\n"
          ]
        }
      ]
    },
    {
      "cell_type": "code",
      "source": [
        "import tensorflow as tf\n",
        "import torch\n",
        "import gym\n"
      ],
      "metadata": {
        "id": "PFMDNA2g48bg"
      },
      "execution_count": 4,
      "outputs": []
    },
    {
      "cell_type": "markdown",
      "source": [
        "Creating a simulation environment"
      ],
      "metadata": {
        "id": "SZMej8G15ZA1"
      }
    },
    {
      "cell_type": "code",
      "source": [
        "import gym\n",
        "from gym import spaces\n",
        "import numpy as np\n",
        "\n",
        "class VirtualPetEnv(gym.Env):\n",
        "    def __init__(self):\n",
        "        super(VirtualPetEnv, self).__init__()\n",
        "        self.action_space = spaces.Discrete(3)  # Actions: move_left, move_right, interact\n",
        "        self.observation_space = spaces.Box(low=0, high=10, shape=(2,), dtype=np.float32)\n",
        "        self.reset()\n",
        "\n",
        "    def step(self, action):\n",
        "        pet_pos, obj_pos = self.state\n",
        "        reward = 0\n",
        "        done = False\n",
        "\n",
        "        if action == 0:  # Move left\n",
        "            pet_pos = max(0, pet_pos - 1)\n",
        "        elif action == 1:  # Move right\n",
        "            pet_pos = min(9, pet_pos + 1)\n",
        "        elif action == 2:  # Interact\n",
        "            if pet_pos == obj_pos:\n",
        "                reward = 10  # Reward for successful interaction\n",
        "                done = True\n",
        "            else:\n",
        "                reward = -5  # Penalty for incorrect interaction\n",
        "\n",
        "        self.state = (pet_pos, obj_pos)\n",
        "        return np.array(self.state, dtype=np.float32), reward, done, {}\n",
        "\n",
        "    def reset(self):\n",
        "        self.state = (5, np.random.randint(0, 10))\n",
        "        return np.array(self.state, dtype=np.float32)\n",
        "\n",
        "    def render(self, mode='human'):\n",
        "        grid = ['_'] * 10\n",
        "        pet_pos, obj_pos = self.state\n",
        "        grid[pet_pos] = 'P'\n",
        "        grid[obj_pos] = 'O'\n",
        "        print(''.join(grid))\n",
        "\n",
        "    def close(self):\n",
        "        pass\n",
        "\n"
      ],
      "metadata": {
        "id": "iB6_nch-5JJR"
      },
      "execution_count": 32,
      "outputs": []
    },
    {
      "cell_type": "markdown",
      "source": [
        "Define the Q-learning agent"
      ],
      "metadata": {
        "id": "mV7HIaXUbDsQ"
      }
    },
    {
      "cell_type": "code",
      "source": [
        "env = VirtualPetEnv()\n",
        "observation = env.reset()\n",
        "for _ in range(10):\n",
        "    action = env.action_space.sample()  # Random action\n",
        "    observation, reward, done, info = env.step(action)\n",
        "    env.render()  # Text-based rendering\n",
        "    if done:\n",
        "        print(f\"Finished with reward: {reward}\")\n",
        "        break\n",
        "env.close()\n",
        "\n"
      ],
      "metadata": {
        "colab": {
          "base_uri": "https://localhost:8080/"
        },
        "id": "pZwg0Yed53HZ",
        "outputId": "daabd073-8f66-42d3-ee8f-e7ab69e91d77"
      },
      "execution_count": 33,
      "outputs": [
        {
          "output_type": "stream",
          "name": "stdout",
          "text": [
            "__O___P___\n",
            "__O__P____\n",
            "__O___P___\n",
            "__O__P____\n",
            "__O___P___\n",
            "__O___P___\n",
            "__O____P__\n",
            "__O_____P_\n",
            "__O____P__\n",
            "__O____P__\n"
          ]
        }
      ]
    },
    {
      "cell_type": "markdown",
      "source": [
        "Define the q learning agent"
      ],
      "metadata": {
        "id": "McyD_Wnc6c_n"
      }
    },
    {
      "cell_type": "code",
      "source": [
        "class QLearningAgent:\n",
        "    def __init__(self, n_states, n_actions, learning_rate=0.1, discount_factor=0.95, epsilon=1.0, epsilon_min=0.01, epsilon_decay=0.995):\n",
        "        self.n_states = n_states\n",
        "        self.n_actions = n_actions\n",
        "        self.lr = learning_rate\n",
        "        self.gamma = discount_factor\n",
        "        self.epsilon = epsilon\n",
        "        self.epsilon_min = epsilon_min\n",
        "        self.epsilon_decay = epsilon_decay\n",
        "        self.q_table = np.zeros((n_states, n_actions))\n",
        "\n",
        "    def choose_action(self, state_index):\n",
        "        if np.random.rand() < self.epsilon:\n",
        "            return np.random.choice(self.n_actions)\n",
        "        else:\n",
        "            return np.argmax(self.q_table[state_index])\n",
        "\n",
        "    def learn(self, state_index, action, reward, next_state_index):\n",
        "        predict = self.q_table[state_index, action]\n",
        "        target = reward + self.gamma * np.max(self.q_table[next_state_index])\n",
        "        self.q_table[state_index, action] += self.lr * (target - predict)\n",
        "        self.epsilon = max(self.epsilon * self.epsilon_decay, self.epsilon_min)\n",
        "\n",
        "\n"
      ],
      "metadata": {
        "id": "b7rVuWpdXqpi"
      },
      "execution_count": 34,
      "outputs": []
    },
    {
      "cell_type": "markdown",
      "source": [
        "Discretizing the State Space"
      ],
      "metadata": {
        "id": "Wx4u66P-bTME"
      }
    },
    {
      "cell_type": "code",
      "source": [
        "def discretize_state(state):\n",
        "    pet_pos, obj_pos = state\n",
        "    state_index = int(pet_pos) * 10 + int(obj_pos)\n",
        "    return state_index\n",
        "\n",
        "\n"
      ],
      "metadata": {
        "id": "-kUgfbTBYBaf"
      },
      "execution_count": 35,
      "outputs": []
    },
    {
      "cell_type": "markdown",
      "source": [
        "Incorporating Human Feedback"
      ],
      "metadata": {
        "id": "5FY56A-wbaBU"
      }
    },
    {
      "cell_type": "code",
      "source": [
        "import matplotlib.pyplot as plt\n",
        "\n",
        "def human_feedback(action, original_reward):\n",
        "    if action == 2:  # If the action is 'interact'\n",
        "        if original_reward > 0:  # Correct interaction\n",
        "            return original_reward + 5\n",
        "        else:  # Incorrect interaction\n",
        "            return original_reward - 5\n",
        "    return original_reward\n",
        "\n",
        "\n"
      ],
      "metadata": {
        "id": "yu-mqZp6YE8u"
      },
      "execution_count": 36,
      "outputs": []
    },
    {
      "cell_type": "markdown",
      "source": [
        "Training the agent and visualization"
      ],
      "metadata": {
        "id": "4060QSF8bkJJ"
      }
    },
    {
      "cell_type": "code",
      "source": [
        "import matplotlib.pyplot as plt\n",
        "\n",
        "# Initialize the environment and the agent\n",
        "env = VirtualPetEnv()\n",
        "n_states = 100  # 10 pet positions * 10 object positions\n",
        "n_actions = env.action_space.n\n",
        "agent = QLearningAgent(n_states, n_actions)\n",
        "\n",
        "# Training loop with episode rewards recording\n",
        "n_episodes = 500\n",
        "episode_rewards = []\n",
        "\n",
        "for episode in range(n_episodes):\n",
        "    state = discretize_state(env.reset())\n",
        "    total_reward = 0\n",
        "    done = False\n",
        "\n",
        "    for step in range(50):\n",
        "        action = agent.choose_action(state)\n",
        "        next_state, reward, done, _ = env.step(action)\n",
        "        adjusted_reward = human_feedback(action, reward)\n",
        "        next_state_index = discretize_state(next_state)\n",
        "        agent.learn(state, action, adjusted_reward, next_state_index)\n",
        "\n",
        "        state = next_state_index\n",
        "        total_reward += adjusted_reward\n",
        "\n",
        "        if done:\n",
        "            break\n",
        "\n",
        "    episode_rewards.append(total_reward)\n",
        "\n",
        "# Visualizing the learning progress\n",
        "plt.plot(episode_rewards)\n",
        "plt.title('Rewards Over Episodes')\n",
        "plt.xlabel('Episode')\n",
        "plt.ylabel('Total Reward')\n",
        "plt.show()\n"
      ],
      "metadata": {
        "colab": {
          "base_uri": "https://localhost:8080/",
          "height": 472
        },
        "id": "suCyRrQ8bn4C",
        "outputId": "3b55323f-5900-4d73-a9c6-c1da78a0a563"
      },
      "execution_count": 37,
      "outputs": [
        {
          "output_type": "display_data",
          "data": {
            "text/plain": [
              "<Figure size 640x480 with 1 Axes>"
            ],
            "image/png": "[encoded data removed]"
          },
          "metadata": {}
        }
      ]
    },
    {
      "cell_type": "markdown",
      "source": [
        "Visualizing the Agent's Learned Policy"
      ],
      "metadata": {
        "id": "5RRCLKlDbtR1"
      }
    },
    {
      "cell_type": "code",
      "source": [
        "best_actions = np.argmax(agent.q_table, axis=1).reshape((10, 10))\n",
        "plt.imshow(best_actions, cmap='hot', interpolation='nearest')\n",
        "plt.title('Best Action per State')\n",
        "plt.colorbar()\n",
        "plt.show()\n"
      ],
      "metadata": {
        "colab": {
          "base_uri": "https://localhost:8080/",
          "height": 452
        },
        "id": "hP2ayA94bwBU",
        "outputId": "4205b755-22d5-4cca-e383-8b5927c933a1"
      },
      "execution_count": 38,
      "outputs": [
        {
          "output_type": "display_data",
          "data": {
            "text/plain": [
              "<Figure size 640x480 with 2 Axes>"
            ],
            "image/png": "[encoded data removed]"
          },
          "metadata": {}
        }
      ]
    },
    {
      "cell_type": "markdown",
      "source": [
        "Testing the agent"
      ],
      "metadata": {
        "id": "08O1TqvAb1lT"
      }
    },
    {
      "cell_type": "code",
      "source": [
        "def test_agent(env, agent, n_tests):\n",
        "    total_rewards = 0\n",
        "    for _ in range(n_tests):\n",
        "        state = discretize_state(env.reset())\n",
        "        done = False\n",
        "        while not done:\n",
        "            action = agent.choose_action(state)\n",
        "            next_state, reward, done, _ = env.step(action)\n",
        "            state = discretize_state(next_state)\n",
        "            total_rewards += reward\n",
        "    avg_reward = total_rewards / n_tests\n",
        "    print(f\"Average Reward after {n_tests} tests: {avg_reward}\")\n",
        "\n",
        "test_agent(env, agent, 100)\n"
      ],
      "metadata": {
        "id": "uwPgtuRsb3eu"
      },
      "execution_count": null,
      "outputs": []
    }
  ]
}